{
 "cells": [
  {
   "cell_type": "markdown",
   "metadata": {},
   "source": [
    "# Topic Modeling with LDA (Gensim)"
   ]
  },
  {
   "cell_type": "markdown",
   "metadata": {},
   "source": [
    "## Prerequisites"
   ]
  },
  {
   "cell_type": "code",
   "execution_count": null,
   "metadata": {},
   "outputs": [],
   "source": [
    "import pandas as pd\n",
    "import string\n",
    "import os\n",
    "import time\n",
    "\n",
    "mallet_path = '../lib/mallet-2.0.8/bin/mallet'\n",
    "use_mallet  = False\n",
    "\n",
    "# input files\n",
    "corpus_dir      = '../corpus/'\n",
    "dict_filename   = corpus_dir + 'gps_ngrams.dict'\n",
    "corpus_filename = corpus_dir + 'gps_ngrams_bow.mm'\n",
    "\n",
    "# output files\n",
    "model_dir       = '../model/{}_topics/'\n",
    "model_filename  = 'topic_model.lda'"
   ]
  },
  {
   "cell_type": "markdown",
   "metadata": {},
   "source": [
    "## Load Dictionary and Corpus"
   ]
  },
  {
   "cell_type": "code",
   "execution_count": null,
   "metadata": {},
   "outputs": [],
   "source": [
    "from gensim import corpora, models\n",
    "\n",
    "dictionary = corpora.Dictionary.load(dict_filename)\n",
    "print(dictionary)\n",
    "\n",
    "corpus_bow = corpora.MmCorpus(corpus_filename)\n",
    "print(corpus_bow)"
   ]
  },
  {
   "cell_type": "markdown",
   "metadata": {},
   "source": [
    "## Model Computations"
   ]
  },
  {
   "cell_type": "code",
   "execution_count": null,
   "metadata": {},
   "outputs": [],
   "source": [
    "num_topics = 150"
   ]
  },
  {
   "cell_type": "code",
   "execution_count": null,
   "metadata": {},
   "outputs": [],
   "source": [
    "def compute_lda(corpus, id2word, num_topics):\n",
    "    \n",
    "    print('Computing LDA for', num_topics, 'topics...')\n",
    "    \n",
    "    start_time = time.time()\n",
    "    model_lda = models.LdaModel(corpus, id2word=id2word, num_topics=num_topics)\n",
    "    print(\"--- took %d:%.2d minutes ---\" % divmod(time.time() - start_time, 60))\n",
    "    \n",
    "    return model_lda\n",
    "\n",
    "def compute_lda_mallet(corpus, id2word, num_topics):\n",
    "    \n",
    "    print('Computing LDA (Mallet) for', num_topics, 'topics...')\n",
    "    \n",
    "    start_time = time.time()\n",
    "    model_lda_mallet = models.wrappers.LdaMallet(mallet_path, corpus=corpus_bow, num_topics=num_topics, id2word=dictionary)\n",
    "    print(\"--- took %d:%.2d minutes ---\" % divmod(time.time() - start_time, 60))\n",
    "    \n",
    "    return model_lda_mallet\n",
    "\n",
    "def save_model(model_lda, num_topics):\n",
    "    pathname = model_dir.format(num_topics)\n",
    "    \n",
    "    # ensure directories exist\n",
    "    if not os.path.exists(pathname):\n",
    "        os.makedirs(pathname)\n",
    "    \n",
    "    filename = pathname + model_filename\n",
    "    \n",
    "    print('Saving LDA model to ', filename)\n",
    "    model_lda.save(filename)\n",
    "    return\n",
    "\n",
    "def load_model(num_topics):\n",
    "    filename = model_dir.format(num_topics) + model_filename\n",
    "    print('Loading LDA model from', filename)\n",
    "    return models.ldamodel.LdaModel.load(filename)\n",
    "\n",
    "def get_model(corpus, id2word, num_topics):\n",
    "    try:\n",
    "        model_lda = load_model(num_topics)\n",
    "    except  IOError as e:\n",
    "        errno, strerror = e.args\n",
    "        print(\"I/O error({0}): {1}\".format(errno,strerror))\n",
    "        model_lda = compute_lda(corpus, id2word, num_topics)\n",
    "        save_model(model_lda, num_topics)\n",
    "    \n",
    "    print(model_lda)\n",
    "    return model_lda\n",
    "\n",
    "def compute_coherence(model, corpus, id2word, num_topics, coherence='u_mass'):\n",
    "    cm = models.CoherenceModel(model=model, corpus=corpus, dictionary=id2word, coherence=coherence)\n",
    "    return cm.get_coherence()\n",
    "\n",
    "def create_models(corpus, dictionary, num_topics_list):\n",
    "    \n",
    "    coherence_vals = []\n",
    "    \n",
    "    for num_topics in num_topics_list:\n",
    "        \n",
    "        model_lda = get_model(corpus, dictionary, num_topics)\n",
    "        coh = compute_coherence(model_lda, corpus, dictionary, num_topics)\n",
    "        \n",
    "        coherence_vals.append((num_topics, coh))\n",
    "    \n",
    "    return coherence_vals"
   ]
  },
  {
   "cell_type": "markdown",
   "metadata": {},
   "source": [
    "## Compute LDA"
   ]
  },
  {
   "cell_type": "code",
   "execution_count": null,
   "metadata": {},
   "outputs": [],
   "source": [
    "model_lda = get_model(corpus_bow, dictionary, num_topics)\n",
    "coherence = compute_coherence(model_lda, corpus_bow, dictionary, num_topics)\n",
    "print(\"coherence: {:.3f}\".format(coherence))"
   ]
  },
  {
   "cell_type": "code",
   "execution_count": null,
   "metadata": {},
   "outputs": [],
   "source": [
    "# model_lda.print_topics(10)\n",
    "# model_lda.top_topics(corpus_bow)"
   ]
  },
  {
   "cell_type": "markdown",
   "metadata": {},
   "source": [
    "### Using Mallet"
   ]
  },
  {
   "cell_type": "code",
   "execution_count": null,
   "metadata": {},
   "outputs": [],
   "source": [
    "if use_mallet:\n",
    "    num_topics = 10\n",
    "    mallet = compute_lda_mallet(corpus_bow, dictionary, num_topics)\n",
    "    compute_coherence(mallet, corpus_bow, dictionary, num_topics)"
   ]
  },
  {
   "cell_type": "markdown",
   "metadata": {},
   "source": [
    "## Calculate coherence for multiple models\n",
    "\n",
    " see also:\n",
    "   * https://radimrehurek.com/gensim/models/coherencemodel.html\n",
    "   * https://rare-technologies.com/what-is-topic-coherence/"
   ]
  },
  {
   "cell_type": "code",
   "execution_count": null,
   "metadata": {},
   "outputs": [],
   "source": [
    "#coherence_vals = create_models(corpus_bow, dictionary, range(20, 501, 3))"
   ]
  },
  {
   "cell_type": "code",
   "execution_count": null,
   "metadata": {},
   "outputs": [],
   "source": [
    "import matplotlib.pyplot as plt\n",
    "%matplotlib inline\n",
    "\n",
    "plt.plot(*zip(*coherence_vals))\n",
    "plt.xlabel(\"Num Topics\")\n",
    "plt.ylabel(\"Coherence Score\")\n",
    "#plt.legend((\"Coherence_values\"), loc='best')\n",
    "plt.show()"
   ]
  }
 ],
 "metadata": {
  "kernelspec": {
   "display_name": "Python 3",
   "language": "python",
   "name": "python3"
  },
  "language_info": {
   "codemirror_mode": {
    "name": "ipython",
    "version": 3
   },
   "file_extension": ".py",
   "mimetype": "text/x-python",
   "name": "python",
   "nbconvert_exporter": "python",
   "pygments_lexer": "ipython3",
   "version": "3.6.7"
  }
 },
 "nbformat": 4,
 "nbformat_minor": 2
}
